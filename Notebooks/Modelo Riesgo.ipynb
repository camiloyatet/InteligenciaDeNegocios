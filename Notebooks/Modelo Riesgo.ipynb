{
 "cells": [
  {
   "cell_type": "code",
   "execution_count": 146,
   "metadata": {
    "scrolled": true
   },
   "outputs": [
    {
     "name": "stdout",
     "output_type": "stream",
     "text": [
      "Requirement already satisfied: tabulate in c:\\users\\juantrma\\appdata\\local\\programs\\python\\python37\\lib\\site-packages (0.8.5)\n"
     ]
    },
    {
     "name": "stderr",
     "output_type": "stream",
     "text": [
      "You are using pip version 19.0.3, however version 19.3.1 is available.\n",
      "You should consider upgrading via the 'python -m pip install --upgrade pip' command.\n"
     ]
    },
    {
     "name": "stdout",
     "output_type": "stream",
     "text": [
      "Requirement already satisfied: seaborn in c:\\users\\juantrma\\appdata\\local\\programs\\python\\python37\\lib\\site-packages (0.9.0)\n",
      "Requirement already satisfied: numpy>=1.9.3 in c:\\users\\juantrma\\appdata\\local\\programs\\python\\python37\\lib\\site-packages (from seaborn) (1.17.3)\n",
      "Requirement already satisfied: scipy>=0.14.0 in c:\\users\\juantrma\\appdata\\local\\programs\\python\\python37\\lib\\site-packages (from seaborn) (1.3.1)\n",
      "Requirement already satisfied: pandas>=0.15.2 in c:\\users\\juantrma\\appdata\\local\\programs\\python\\python37\\lib\\site-packages (from seaborn) (0.25.3)\n",
      "Requirement already satisfied: matplotlib>=1.4.3 in c:\\users\\juantrma\\appdata\\local\\programs\\python\\python37\\lib\\site-packages (from seaborn) (3.1.1)\n",
      "Requirement already satisfied: pytz>=2017.2 in c:\\users\\juantrma\\appdata\\local\\programs\\python\\python37\\lib\\site-packages (from pandas>=0.15.2->seaborn) (2019.3)\n",
      "Requirement already satisfied: python-dateutil>=2.6.1 in c:\\users\\juantrma\\appdata\\local\\programs\\python\\python37\\lib\\site-packages (from pandas>=0.15.2->seaborn) (2.8.1)\n",
      "Requirement already satisfied: pyparsing!=2.0.4,!=2.1.2,!=2.1.6,>=2.0.1 in c:\\users\\juantrma\\appdata\\local\\programs\\python\\python37\\lib\\site-packages (from matplotlib>=1.4.3->seaborn) (2.4.3)\n",
      "Requirement already satisfied: cycler>=0.10 in c:\\users\\juantrma\\appdata\\local\\programs\\python\\python37\\lib\\site-packages (from matplotlib>=1.4.3->seaborn) (0.10.0)\n",
      "Requirement already satisfied: kiwisolver>=1.0.1 in c:\\users\\juantrma\\appdata\\local\\programs\\python\\python37\\lib\\site-packages (from matplotlib>=1.4.3->seaborn) (1.1.0)\n",
      "Requirement already satisfied: six>=1.5 in c:\\users\\juantrma\\appdata\\local\\programs\\python\\python37\\lib\\site-packages (from python-dateutil>=2.6.1->pandas>=0.15.2->seaborn) (1.13.0)\n",
      "Requirement already satisfied: setuptools in c:\\users\\juantrma\\appdata\\local\\programs\\python\\python37\\lib\\site-packages (from kiwisolver>=1.0.1->matplotlib>=1.4.3->seaborn) (40.8.0)\n"
     ]
    },
    {
     "name": "stderr",
     "output_type": "stream",
     "text": [
      "You are using pip version 19.0.3, however version 19.3.1 is available.\n",
      "You should consider upgrading via the 'python -m pip install --upgrade pip' command.\n"
     ]
    }
   ],
   "source": [
    "!pip install --trusted-host pypi.org --trusted-host files.pythonhosted.org tabulate\n",
    "!pip install --trusted-host pypi.org --trusted-host files.pythonhosted.org seaborn\n",
    "%matplotlib inline\n",
    "import numpy as np\n",
    "import pandas as pd\n",
    "import pylab as pl\n",
    "import seaborn as sns\n",
    "from matplotlib import pyplot as plt\n",
    "from sklearn import preprocessing\n",
    "from sklearn import datasets\n",
    "from sklearn.metrics import confusion_matrix\n",
    "from tabulate import tabulate\n",
    "from sklearn.neural_network import MLPClassifier\n",
    "from sklearn.preprocessing import StandardScaler\n",
    "from sklearn.model_selection import train_test_split\n",
    "from sklearn import metrics"
   ]
  },
  {
   "cell_type": "code",
   "execution_count": 147,
   "metadata": {},
   "outputs": [],
   "source": [
    "# Función para visualizar un conjunto de datos en 2D\n",
    "def plot_data(X, y, size=None):\n",
    "    y_unique = np.unique(y)\n",
    "    colors = pl.cm.rainbow(np.linspace(0.0, 1.0, y_unique.size))\n",
    "    for this_y, color in zip(y_unique, colors):\n",
    "        this_X = X[y == this_y]\n",
    "        pl.scatter(this_X[:, 0], this_X[:, 1],  c=color,\n",
    "                   alpha=0.5, edgecolor='k', s=size,\n",
    "                    label=\"Class %s\" % this_y)\n",
    "    pl.legend(loc=\"best\")\n",
    "    pl.title(\"Data\")\n",
    "    \n",
    "# Función para visualizar de la superficie de decisión de un clasificador\n",
    "def plot_decision_region2(X, pred_fun):      #Función para visualizar la superficie de decisión de nuestro algoritmo.\n",
    "    min_x = np.min(X[:, 0])\n",
    "    max_x = np.max(X[:, 0])\n",
    "    min_y = np.min(X[:, 1])\n",
    "    max_y = np.max(X[:, 1])\n",
    "    min_x = min_x - (max_x - min_x) * 0.05\n",
    "    max_x = max_x + (max_x - min_x) * 0.05\n",
    "    min_y = min_y - (max_y - min_y) * 0.05\n",
    "    max_y = max_y + (max_y - min_y) * 0.05\n",
    "    x_vals = np.linspace(min_x, max_x, 100)\n",
    "    y_vals = np.linspace(min_y, max_y, 100)\n",
    "    XX, YY = np.meshgrid(x_vals, y_vals)\n",
    "    grid_r, grid_c = XX.shape\n",
    "    ZZ = np.zeros((grid_r, grid_c))\n",
    "    for i in range(grid_r):\n",
    "        for j in range(grid_c):\n",
    "            ZZ[i, j] = pred_fun(XX[i, j], YY[i, j])\n",
    "    pl.contourf(XX, YY, ZZ, 100, cmap = pl.cm.coolwarm, vmin= 1, vmax=3)\n",
    "    pl.colorbar()\n",
    "    pl.xlabel(\"x\")\n",
    "    pl.ylabel(\"y\")\n",
    "    \n",
    "def gen_pred_fun(clf):\n",
    "    def pred_fun(x1, x2):\n",
    "        x = np.array([[x1, x2]])\n",
    "        return clf.predict(x)[0]\n",
    "    return pred_fun\n",
    "\n",
    "def list_cm(cm,classes):     #función para generar de una forma más visual la matriz de confusión\n",
    "    if len(cm)==2:\n",
    "      cm.astype(int)\n",
    "      row_0 =['','Valor','Verdadero']\n",
    "      row_1 =['-',classes[0],classes[1]]\n",
    "      row_2 =[classes[0],cm[0,0],cm[1,0]]\n",
    "      row_3 =[classes[1],cm[0,1],cm[1,1]]\n",
    "      table = zip(row_0,row_1, row_2, row_3)\n",
    "      headers = ['', '', 'Valor', 'Predicho']  \n",
    "      return print(tabulate(table, headers=headers, floatfmt=\".0f\"))\n",
    "    else:\n",
    "      cm.astype(int)\n",
    "      row_0 =['','Valor','Verdadero','']\n",
    "      row_1 =['-',np.int(classes[0]),classes[1],classes[2]]\n",
    "      row_2 =[classes[0],cm[0,0],cm[1,0],cm[2,0]]\n",
    "      row_3 =[classes[1],cm[0,1],cm[1,1],cm[2,1]]\n",
    "      row_4 =[classes[2],cm[0,2],cm[1,2],cm[2,2]]\n",
    "      table = zip(row_0,row_1, row_2, row_3, row_4)\n",
    "      headers = ['', '', 'Valor', 'Predicho', '']  \n",
    "      return print(tabulate(table, headers=headers, floatfmt=\".0f\")) \n",
    "\n",
    "import itertools\n",
    "\n",
    "def plot_confusion_matrix(cm, classes,\n",
    "                          title='Matriz de confusión',\n",
    "                          cmap=pl.cm.Blues):\n",
    "    print(cm) # Confusion matrix\n",
    "\n",
    "    pl.imshow(cm, interpolation='nearest', cmap=cmap) # Pintamos la matriz como una imagen\n",
    "    pl.title(title)\n",
    "    pl.colorbar()\n",
    "    tick_marks = np.arange(len(classes))\n",
    "    pl.xticks(tick_marks, classes, rotation=45) # Nombre de las clases en X\n",
    "    pl.yticks(tick_marks, classes) # Nombre de las clases en Y\n",
    "\n",
    "    thresh = cm.max() / 2.\n",
    "    for i, j in itertools.product(range(cm.shape[0]), range(cm.shape[1])):\n",
    "        pl.text(j, i, format(cm[i, j], 'd'),\n",
    "                 horizontalalignment=\"center\",\n",
    "                 color=\"white\" if cm[i, j] > thresh else \"black\") \n",
    "        # Anotamos cada sección de la imagen con su valor correspondiente en la matriz\n",
    "\n",
    "    pl.tight_layout()\n",
    "    pl.ylabel('Valor de verdad')\n",
    "    pl.xlabel('Valor predicho')\n",
    "\n",
    "    \n",
    "    %matplotlib inline\n",
    "import matplotlib.pyplot as plt\n",
    "import numpy as np\n",
    "import pylab as pl\n",
    "from sklearn.datasets import make_circles\n",
    "from matplotlib.colors import Normalize\n",
    "\n",
    "\n",
    "# Función para visualizar un conjunto de datos en 2D\n",
    "def plot_data(X, y):\n",
    "    y_unique = np.unique(y)\n",
    "    colors = pl.cm.rainbow(np.linspace(0.0, 1.0, y_unique.size))\n",
    "    for this_y, color in zip(y_unique, colors):\n",
    "        this_X = X[y == this_y]\n",
    "        pl.scatter(this_X[:, 0], this_X[:, 1],  c=color,\n",
    "                    alpha=0.5, edgecolor='k',\n",
    "                    label=\"Class %s\" % this_y)\n",
    "    pl.legend(loc=\"best\")\n",
    "    pl.title(\"Data\")\n",
    "    \n",
    "# Función para visualizar de la superficie de decisión de un clasificador\n",
    "def plot_decision_region(X, pred_fun):\n",
    "    min_x = np.min(X[:, 0])\n",
    "    max_x = np.max(X[:, 0])\n",
    "    min_y = np.min(X[:, 1])\n",
    "    max_y = np.max(X[:, 1])\n",
    "    min_x = min_x - (max_x - min_x) * 0.05\n",
    "    max_x = max_x + (max_x - min_x) * 0.05\n",
    "    min_y = min_y - (max_y - min_y) * 0.05\n",
    "    max_y = max_y + (max_y - min_y) * 0.05\n",
    "    x_vals = np.linspace(min_x, max_x, 100)\n",
    "    y_vals = np.linspace(min_y, max_y, 100)\n",
    "    XX, YY = np.meshgrid(x_vals, y_vals)\n",
    "    grid_r, grid_c = XX.shape\n",
    "    ZZ = np.zeros((grid_r, grid_c))\n",
    "    for i in range(grid_r):\n",
    "        for j in range(grid_c):\n",
    "            ZZ[i, j] = pred_fun(XX[i, j], YY[i, j])\n",
    "    pl.contourf(XX, YY, ZZ, 100, cmap = pl.cm.coolwarm, vmin= -1, vmax=2)\n",
    "    pl.colorbar()\n",
    "    pl.xlabel(\"x\")\n",
    "    pl.ylabel(\"y\")\n",
    "    \n",
    "class MidpointNormalize(Normalize):\n",
    "\n",
    "    def __init__(self, vmin=None, vmax=None, midpoint=None, clip=False):\n",
    "        self.midpoint = midpoint\n",
    "        Normalize.__init__(self, vmin, vmax, clip)\n",
    "\n",
    "    def __call__(self, value, clip=None):\n",
    "        x, y = [self.vmin, self.midpoint, self.vmax], [0, 0.5, 1]\n",
    "        return np.ma.masked_array(np.interp(value, x, y))\n",
    "    \n",
    "def gen_pred_fun(clf):\n",
    "    def pred_fun(x1, x2):\n",
    "        x = np.array([[x1, x2]])\n",
    "        return clf.predict(x)[0]\n",
    "    return pred_fun\n",
    "\n",
    "def list_cm(cm,classes):     #función para generar de una forma más visual la matriz de confusión\n",
    "    if len(cm)==2:\n",
    "      cm.astype(int)\n",
    "      row_0 =['','Valor','Verdadero']\n",
    "      row_1 =['-',classes[0],classes[1]]\n",
    "      row_2 =[classes[0],cm[0,0],cm[1,0]]\n",
    "      row_3 =[classes[1],cm[0,1],cm[1,1]]\n",
    "      table = zip(row_0,row_1, row_2, row_3)\n",
    "      headers = ['', '', 'Valor', 'Predicho']  \n",
    "      return print(tabulate(table, headers=headers, floatfmt=\".0f\"))\n",
    "    else:\n",
    "      cm.astype(int)\n",
    "      row_0 =['','Valor','Verdadero','']\n",
    "      row_1 =['-',np.int(classes[0]),classes[1],classes[2]]\n",
    "      row_2 =[classes[0],cm[0,0],cm[1,0],cm[2,0]]\n",
    "      row_3 =[classes[1],cm[0,1],cm[1,1],cm[2,1]]\n",
    "      row_4 =[classes[2],cm[0,2],cm[1,2],cm[2,2]]\n",
    "      table = zip(row_0,row_1, row_2, row_3, row_4)\n",
    "      headers = ['', '', 'Valor', 'Predicho', '']\n",
    "      return print(tabulate(table, headers=headers, floatfmt=\".0f\")) "
   ]
  },
  {
   "cell_type": "code",
   "execution_count": 148,
   "metadata": {},
   "outputs": [
    {
     "data": {
      "text/plain": [
       "'C:\\\\Users\\\\juantrma\\\\OneDrive - Caja Colombiana de Subsidio Familiar - Colsubsidio\\\\Modelo Natación'"
      ]
     },
     "execution_count": 148,
     "metadata": {},
     "output_type": "execute_result"
    }
   ],
   "source": [
    "import os\n",
    "os.getcwd()"
   ]
  },
  {
   "cell_type": "code",
   "execution_count": 149,
   "metadata": {},
   "outputs": [],
   "source": [
    "import pandas as pd\n",
    "import numpy as np\n",
    "import csv\n",
    "df = pd.read_csv(\"BD/data.csv\", encoding = 'latin1', sep = \",\")"
   ]
  },
  {
   "cell_type": "code",
   "execution_count": 150,
   "metadata": {},
   "outputs": [
    {
     "data": {
      "text/html": [
       "<div>\n",
       "<style scoped>\n",
       "    .dataframe tbody tr th:only-of-type {\n",
       "        vertical-align: middle;\n",
       "    }\n",
       "\n",
       "    .dataframe tbody tr th {\n",
       "        vertical-align: top;\n",
       "    }\n",
       "\n",
       "    .dataframe thead th {\n",
       "        text-align: right;\n",
       "    }\n",
       "</style>\n",
       "<table border=\"1\" class=\"dataframe\">\n",
       "  <thead>\n",
       "    <tr style=\"text-align: right;\">\n",
       "      <th></th>\n",
       "      <th>nodocumento</th>\n",
       "      <th>genero</th>\n",
       "      <th>clasedecontrato</th>\n",
       "      <th>nodeprorrogas</th>\n",
       "      <th>regional</th>\n",
       "      <th>departamento</th>\n",
       "      <th>ciudad</th>\n",
       "      <th>ubicacion</th>\n",
       "      <th>tipodevinculo</th>\n",
       "      <th>tipodeposicion</th>\n",
       "      <th>...</th>\n",
       "      <th>ryt_hoathan</th>\n",
       "      <th>ryt_hopaipa</th>\n",
       "      <th>ryt_hopeaalisa</th>\n",
       "      <th>ryt_piscilago</th>\n",
       "      <th>ryt_prdeport</th>\n",
       "      <th>ryt_prrecryt</th>\n",
       "      <th>salud_nopos</th>\n",
       "      <th>salud_pos</th>\n",
       "      <th>riesgo</th>\n",
       "      <th>mesesfalta</th>\n",
       "    </tr>\n",
       "  </thead>\n",
       "  <tbody>\n",
       "    <tr>\n",
       "      <th>0</th>\n",
       "      <td>1.112537e-308</td>\n",
       "      <td>M</td>\n",
       "      <td>FIJO</td>\n",
       "      <td>0</td>\n",
       "      <td>CENTRO</td>\n",
       "      <td>BOGOTAÂ</td>\n",
       "      <td>BOGOTAÂ D.C.</td>\n",
       "      <td>PEND.REG. CENTRO</td>\n",
       "      <td>COLSUBSIDIO</td>\n",
       "      <td>OCASIONAL</td>\n",
       "      <td>...</td>\n",
       "      <td>0</td>\n",
       "      <td>0</td>\n",
       "      <td>0</td>\n",
       "      <td>0</td>\n",
       "      <td>0</td>\n",
       "      <td>0</td>\n",
       "      <td>0</td>\n",
       "      <td>0</td>\n",
       "      <td>X0</td>\n",
       "      <td>8.0</td>\n",
       "    </tr>\n",
       "    <tr>\n",
       "      <th>1</th>\n",
       "      <td>1.112537e-308</td>\n",
       "      <td>F</td>\n",
       "      <td>APRENDIZAJE</td>\n",
       "      <td>0</td>\n",
       "      <td>CENTRO</td>\n",
       "      <td>BOGOTAÂ</td>\n",
       "      <td>BOGOTAÂ D.C.</td>\n",
       "      <td>OFICINAS CENTRALES CALLE 26</td>\n",
       "      <td>COLSUBSIDIO</td>\n",
       "      <td>ESTUDIANTE EN PRACTICA</td>\n",
       "      <td>...</td>\n",
       "      <td>0</td>\n",
       "      <td>0</td>\n",
       "      <td>0</td>\n",
       "      <td>0</td>\n",
       "      <td>0</td>\n",
       "      <td>0</td>\n",
       "      <td>0</td>\n",
       "      <td>0</td>\n",
       "      <td>X0</td>\n",
       "      <td>5.0</td>\n",
       "    </tr>\n",
       "    <tr>\n",
       "      <th>2</th>\n",
       "      <td>1.112537e-308</td>\n",
       "      <td>F</td>\n",
       "      <td>APRENDIZAJE</td>\n",
       "      <td>0</td>\n",
       "      <td>CENTRO</td>\n",
       "      <td>BOGOTAÂ</td>\n",
       "      <td>BOGOTAÂ D.C.</td>\n",
       "      <td>PEND.REG. CENTRO</td>\n",
       "      <td>COLSUBSIDIO</td>\n",
       "      <td>ESTUDIANTE EN PRACTICA</td>\n",
       "      <td>...</td>\n",
       "      <td>0</td>\n",
       "      <td>0</td>\n",
       "      <td>0</td>\n",
       "      <td>0</td>\n",
       "      <td>0</td>\n",
       "      <td>0</td>\n",
       "      <td>0</td>\n",
       "      <td>0</td>\n",
       "      <td>X0</td>\n",
       "      <td>5.0</td>\n",
       "    </tr>\n",
       "  </tbody>\n",
       "</table>\n",
       "<p>3 rows × 78 columns</p>\n",
       "</div>"
      ],
      "text/plain": [
       "     nodocumento genero clasedecontrato  nodeprorrogas regional departamento  \\\n",
       "0  1.112537e-308      M            FIJO              0   CENTRO     BOGOTAÂ   \n",
       "1  1.112537e-308      F     APRENDIZAJE              0   CENTRO     BOGOTAÂ   \n",
       "2  1.112537e-308      F     APRENDIZAJE              0   CENTRO     BOGOTAÂ   \n",
       "\n",
       "          ciudad                    ubicacion tipodevinculo  \\\n",
       "0  BOGOTAÂ D.C.             PEND.REG. CENTRO   COLSUBSIDIO   \n",
       "1  BOGOTAÂ D.C.  OFICINAS CENTRALES CALLE 26   COLSUBSIDIO   \n",
       "2  BOGOTAÂ D.C.             PEND.REG. CENTRO   COLSUBSIDIO   \n",
       "\n",
       "           tipodeposicion  ... ryt_hoathan ryt_hopaipa  ryt_hopeaalisa  \\\n",
       "0               OCASIONAL  ...           0           0               0   \n",
       "1  ESTUDIANTE EN PRACTICA  ...           0           0               0   \n",
       "2  ESTUDIANTE EN PRACTICA  ...           0           0               0   \n",
       "\n",
       "  ryt_piscilago ryt_prdeport ryt_prrecryt salud_nopos  salud_pos  riesgo  \\\n",
       "0             0            0            0           0          0      X0   \n",
       "1             0            0            0           0          0      X0   \n",
       "2             0            0            0           0          0      X0   \n",
       "\n",
       "  mesesfalta  \n",
       "0        8.0  \n",
       "1        5.0  \n",
       "2        5.0  \n",
       "\n",
       "[3 rows x 78 columns]"
      ]
     },
     "execution_count": 150,
     "metadata": {},
     "output_type": "execute_result"
    }
   ],
   "source": [
    "df.head(3)"
   ]
  },
  {
   "cell_type": "code",
   "execution_count": 151,
   "metadata": {
    "scrolled": true
   },
   "outputs": [
    {
     "data": {
      "text/plain": [
       "Index(['nodocumento', 'genero', 'clasedecontrato', 'nodeprorrogas', 'regional',\n",
       "       'departamento', 'ciudad', 'ubicacion', 'tipodevinculo',\n",
       "       'tipodeposicion', 'motivodeaprobaciongral', 'turnoposicion',\n",
       "       'horassemanalespromedio', 'familiasdecargo', 'divisiondepersonal',\n",
       "       'subdivisiondepersonal', 'areaorganizativa', 'edad', 'salario',\n",
       "       'categoria', 'segmento_poblacional', 'total_numero_grupo_familiar',\n",
       "       'numero_beneficiario_cuota_monetaria', 'numero_cuota_monetaria',\n",
       "       'numero_hijos', 'numero_padre', 'numero_conyugue', 'numero_hermano',\n",
       "       'estado_civil', 'nivel_academico', 'segmento_grupo_familiar',\n",
       "       'cx_persona', 'cy_persona', 'departamentopersona', 'municipiopersona',\n",
       "       'poblado', 'tipopoblado', 'latitudpoblado', 'longitudpoblado',\n",
       "       'estratopersona', 'filial_famisanar', 'filial_ips_colsubsidio',\n",
       "       'filial_ips_cafam', 'filial_otra_ips', 'filial_pac_famisanar',\n",
       "       'filial_bancompartir', 'marca_aventurero', 'marca_tu_club',\n",
       "       'filial_suramericana', 'filial_pac_suramericana', 'filial_proteccion',\n",
       "       'filial_pension_obligatoria', 'filial_pension_voluntaria',\n",
       "       'filial_cesantias', 'distanciavt', 'cs_as_hipo', 'cs_as_libr',\n",
       "       'cs_as_nolibranza', 'cs_as_titular', 'cs_co_csconv', 'ms_drog',\n",
       "       'ms_sup', 'ryt_agviaje', 'ryt_clbellavista', 'ryt_clcll195',\n",
       "       'ryt_clcolina', 'ryt_clcubo', 'ryt_hoalcaravan', 'ryt_hoathan',\n",
       "       'ryt_hopaipa', 'ryt_hopeaalisa', 'ryt_piscilago', 'ryt_prdeport',\n",
       "       'ryt_prrecryt', 'salud_nopos', 'salud_pos', 'riesgo', 'mesesfalta'],\n",
       "      dtype='object')"
      ]
     },
     "execution_count": 151,
     "metadata": {},
     "output_type": "execute_result"
    }
   ],
   "source": [
    "df.columns"
   ]
  },
  {
   "cell_type": "code",
   "execution_count": 152,
   "metadata": {
    "scrolled": true
   },
   "outputs": [],
   "source": [
    "categoricas=['genero', 'clasedecontrato', 'regional',\n",
    "       'departamento', 'ciudad', 'ubicacion', 'tipodevinculo',\n",
    "       'tipodeposicion', 'motivodeaprobaciongral', 'turnoposicion',\n",
    "             'familiasdecargo', 'divisiondepersonal',\n",
    "       'subdivisiondepersonal', 'areaorganizativa',\n",
    "       'categoria', 'segmento_poblacional','estado_civil', 'nivel_academico', 'segmento_grupo_familiar',\n",
    "       'departamentopersona', 'municipiopersona',\n",
    "       'poblado', 'tipopoblado', \n",
    "       'estratopersona', 'filial_famisanar', 'filial_ips_colsubsidio',\n",
    "       'filial_ips_cafam', 'filial_otra_ips', 'filial_pac_famisanar',\n",
    "       'filial_bancompartir', 'marca_aventurero', 'marca_tu_club',\n",
    "       'filial_suramericana', 'filial_pac_suramericana', 'filial_proteccion',\n",
    "       'filial_pension_obligatoria', 'filial_pension_voluntaria',\n",
    "       'filial_cesantias', 'cs_as_hipo', 'cs_as_libr',\n",
    "       'cs_as_nolibranza', 'cs_as_titular', 'cs_co_csconv', 'ms_drog',\n",
    "       'ms_sup', 'ryt_agviaje', 'ryt_clbellavista', 'ryt_clcll195',\n",
    "       'ryt_clcolina', 'ryt_clcubo', 'ryt_hoalcaravan', 'ryt_hoathan',\n",
    "       'ryt_hopaipa', 'ryt_hopeaalisa', 'ryt_piscilago', 'ryt_prdeport',\n",
    "       'ryt_prrecryt', 'salud_nopos', 'salud_pos', 'riesgo']\n",
    "\n",
    "for var in categoricas:\n",
    "    df[var] = df[var].astype(\"category\")"
   ]
  },
  {
   "cell_type": "code",
   "execution_count": 153,
   "metadata": {
    "scrolled": true
   },
   "outputs": [],
   "source": [
    "df=df.drop(['nodocumento'], axis=1)"
   ]
  },
  {
   "cell_type": "code",
   "execution_count": 155,
   "metadata": {},
   "outputs": [
    {
     "data": {
      "text/plain": [
       "Index(['genero', 'clasedecontrato', 'nodeprorrogas', 'regional',\n",
       "       'departamento', 'ciudad', 'ubicacion', 'tipodevinculo',\n",
       "       'tipodeposicion', 'motivodeaprobaciongral', 'turnoposicion',\n",
       "       'horassemanalespromedio', 'familiasdecargo', 'divisiondepersonal',\n",
       "       'subdivisiondepersonal', 'areaorganizativa', 'edad', 'salario',\n",
       "       'categoria', 'segmento_poblacional', 'total_numero_grupo_familiar',\n",
       "       'numero_beneficiario_cuota_monetaria', 'numero_cuota_monetaria',\n",
       "       'numero_hijos', 'numero_padre', 'numero_conyugue', 'numero_hermano',\n",
       "       'estado_civil', 'nivel_academico', 'segmento_grupo_familiar',\n",
       "       'cx_persona', 'cy_persona', 'departamentopersona', 'municipiopersona',\n",
       "       'poblado', 'tipopoblado', 'latitudpoblado', 'longitudpoblado',\n",
       "       'estratopersona', 'filial_famisanar', 'filial_ips_colsubsidio',\n",
       "       'filial_ips_cafam', 'filial_otra_ips', 'filial_pac_famisanar',\n",
       "       'filial_bancompartir', 'marca_aventurero', 'marca_tu_club',\n",
       "       'filial_suramericana', 'filial_pac_suramericana', 'filial_proteccion',\n",
       "       'filial_pension_obligatoria', 'filial_pension_voluntaria',\n",
       "       'filial_cesantias', 'distanciavt', 'cs_as_hipo', 'cs_as_libr',\n",
       "       'cs_as_nolibranza', 'cs_as_titular', 'cs_co_csconv', 'ms_drog',\n",
       "       'ms_sup', 'ryt_agviaje', 'ryt_clbellavista', 'ryt_clcll195',\n",
       "       'ryt_clcolina', 'ryt_clcubo', 'ryt_hoalcaravan', 'ryt_hoathan',\n",
       "       'ryt_hopaipa', 'ryt_hopeaalisa', 'ryt_piscilago', 'ryt_prdeport',\n",
       "       'ryt_prrecryt', 'salud_nopos', 'salud_pos', 'mesesfalta'],\n",
       "      dtype='object')"
      ]
     },
     "execution_count": 155,
     "metadata": {},
     "output_type": "execute_result"
    }
   ],
   "source": [
    "df.apply(lambda x: x.isnull().sum(), axis=0)"
   ]
  },
  {
   "cell_type": "code",
   "execution_count": 168,
   "metadata": {},
   "outputs": [],
   "source": [
    "categoricas=['genero', 'clasedecontrato', 'regional',\n",
    "       'departamento', 'ciudad', 'ubicacion', 'tipodevinculo',\n",
    "       'tipodeposicion', 'motivodeaprobaciongral', 'turnoposicion',\n",
    "             'familiasdecargo', 'divisiondepersonal',\n",
    "       'subdivisiondepersonal', 'areaorganizativa',\n",
    "       'categoria', 'segmento_poblacional','estado_civil', 'nivel_academico', 'segmento_grupo_familiar',\n",
    "       'departamentopersona', 'municipiopersona',\n",
    "       'poblado', 'tipopoblado', \n",
    "       'estratopersona', 'filial_famisanar', 'filial_ips_colsubsidio',\n",
    "       'filial_ips_cafam', 'filial_otra_ips', 'filial_pac_famisanar',\n",
    "       'filial_bancompartir', 'marca_aventurero', 'marca_tu_club',\n",
    "       'filial_suramericana', 'filial_pac_suramericana', 'filial_proteccion',\n",
    "       'filial_pension_obligatoria', 'filial_pension_voluntaria',\n",
    "       'filial_cesantias', 'cs_as_hipo', 'cs_as_libr',\n",
    "       'cs_as_nolibranza', 'cs_as_titular', 'cs_co_csconv', 'ms_drog',\n",
    "       'ms_sup', 'ryt_agviaje', 'ryt_clbellavista', 'ryt_clcll195',\n",
    "       'ryt_clcolina', 'ryt_clcubo', 'ryt_hoalcaravan', 'ryt_hoathan',\n",
    "       'ryt_hopaipa', 'ryt_hopeaalisa', 'ryt_piscilago', 'ryt_prdeport',\n",
    "       'ryt_prrecryt', 'salud_nopos', 'salud_pos']"
   ]
  },
  {
   "cell_type": "code",
   "execution_count": 169,
   "metadata": {
    "scrolled": false
   },
   "outputs": [],
   "source": [
    "df1 = pd.get_dummies(df, columns=categoricas, prefix=['genero', 'clasedecontrato', 'regional',\n",
    "       'departamento', 'ciudad', 'ubicacion', 'tipodevinculo',\n",
    "       'tipodeposicion', 'motivodeaprobaciongral', 'turnoposicion',\n",
    "             'familiasdecargo', 'divisiondepersonal',\n",
    "       'subdivisiondepersonal', 'areaorganizativa',\n",
    "       'categoria', 'segmento_poblacional','estado_civil', 'nivel_academico', 'segmento_grupo_familiar',\n",
    "       'departamentopersona', 'municipiopersona',\n",
    "       'poblado', 'tipopoblado', \n",
    "       'estratopersona', 'filial_famisanar', 'filial_ips_colsubsidio',\n",
    "       'filial_ips_cafam', 'filial_otra_ips', 'filial_pac_famisanar',\n",
    "       'filial_bancompartir', 'marca_aventurero', 'marca_tu_club',\n",
    "       'filial_suramericana', 'filial_pac_suramericana', 'filial_proteccion',\n",
    "       'filial_pension_obligatoria', 'filial_pension_voluntaria',\n",
    "       'filial_cesantias', 'cs_as_hipo', 'cs_as_libr',\n",
    "       'cs_as_nolibranza', 'cs_as_titular', 'cs_co_csconv', 'ms_drog',\n",
    "       'ms_sup', 'ryt_agviaje', 'ryt_clbellavista', 'ryt_clcll195',\n",
    "       'ryt_clcolina', 'ryt_clcubo', 'ryt_hoalcaravan', 'ryt_hoathan',\n",
    "       'ryt_hopaipa', 'ryt_hopeaalisa', 'ryt_piscilago', 'ryt_prdeport',\n",
    "       'ryt_prrecryt', 'salud_nopos', 'salud_pos'])\n",
    "#df1 = df\n",
    "X = df1.drop([\"riesgo\"], axis = 1)\n",
    "y = df1[[\"riesgo\"]]"
   ]
  },
  {
   "cell_type": "markdown",
   "metadata": {},
   "source": [
    "## Train & Test"
   ]
  },
  {
   "cell_type": "code",
   "execution_count": 170,
   "metadata": {},
   "outputs": [
    {
     "name": "stdout",
     "output_type": "stream",
     "text": [
      "(12217, 1136) (5236, 1136) (12217, 1) (5236, 1)\n"
     ]
    }
   ],
   "source": [
    "from sklearn.model_selection import train_test_split\n",
    "X_train, X_test, y_train, y_test = train_test_split(X, y, test_size=0.3, random_state=31415)\n",
    "print(X_train.shape, X_test.shape, y_train.shape, y_test.shape)"
   ]
  },
  {
   "cell_type": "markdown",
   "metadata": {},
   "source": [
    "### Estimación de Modelos"
   ]
  },
  {
   "cell_type": "code",
   "execution_count": 171,
   "metadata": {},
   "outputs": [],
   "source": [
    "from sklearn.ensemble import GradientBoostingClassifier\n",
    "from sklearn.gaussian_process import GaussianProcessClassifier\n",
    "from sklearn.svm import LinearSVC \n",
    "from sklearn.linear_model import LogisticRegression\n",
    "from sklearn.linear_model import LogisticRegressionCV\n",
    "from sklearn.linear_model import SGDClassifier\n",
    "from sklearn.linear_model import Perceptron\n",
    "from sklearn.linear_model import PassiveAggressiveClassifier\n",
    "from sklearn.neighbors import KNeighborsClassifier\n",
    "from sklearn.tree import DecisionTreeClassifier\n",
    "from sklearn.ensemble import RandomForestClassifier"
   ]
  },
  {
   "cell_type": "code",
   "execution_count": 172,
   "metadata": {},
   "outputs": [
    {
     "name": "stderr",
     "output_type": "stream",
     "text": [
      "c:\\users\\juantrma\\appdata\\local\\programs\\python\\python37\\lib\\site-packages\\sklearn\\ensemble\\gradient_boosting.py:1450: DataConversionWarning: A column-vector y was passed when a 1d array was expected. Please change the shape of y to (n_samples, ), for example using ravel().\n",
      "  y = column_or_1d(y, warn=True)\n",
      "c:\\users\\juantrma\\appdata\\local\\programs\\python\\python37\\lib\\site-packages\\sklearn\\utils\\validation.py:724: DataConversionWarning: A column-vector y was passed when a 1d array was expected. Please change the shape of y to (n_samples, ), for example using ravel().\n",
      "  y = column_or_1d(y, warn=True)\n",
      "c:\\users\\juantrma\\appdata\\local\\programs\\python\\python37\\lib\\site-packages\\sklearn\\ensemble\\forest.py:245: FutureWarning: The default value of n_estimators will change from 10 in version 0.20 to 100 in 0.22.\n",
      "  \"10 in version 0.20 to 100 in 0.22.\", FutureWarning)\n",
      "c:\\users\\juantrma\\appdata\\local\\programs\\python\\python37\\lib\\site-packages\\ipykernel_launcher.py:10: DataConversionWarning: A column-vector y was passed when a 1d array was expected. Please change the shape of y to (n_samples,), for example using ravel().\n",
      "  # Remove the CWD from sys.path while we load stuff.\n",
      "c:\\users\\juantrma\\appdata\\local\\programs\\python\\python37\\lib\\site-packages\\ipykernel_launcher.py:10: DataConversionWarning: A column-vector y was passed when a 1d array was expected. Please change the shape of y to (n_samples, ), for example using ravel().\n",
      "  # Remove the CWD from sys.path while we load stuff.\n"
     ]
    }
   ],
   "source": [
    "models = {\n",
    "    'GradientBoosting': GradientBoostingClassifier(random_state=31415, n_estimators=1250)\n",
    "    ,'Classifier_ovr': LogisticRegression(solver='lbfgs', multi_class = 'ovr')\n",
    "    ,'RandomForest' : RandomForestClassifier()\n",
    "    ,'KNN' : KNeighborsClassifier(n_neighbors=65)\n",
    "    ,'DesicionTree' : DecisionTreeClassifier(max_depth=5)\n",
    "}\n",
    "\n",
    "for model in models.keys():\n",
    "    models[model].fit(X_train, y_train)"
   ]
  },
  {
   "cell_type": "code",
   "execution_count": 173,
   "metadata": {},
   "outputs": [],
   "source": [
    "y_pred = pd.DataFrame(index=X_test.index, columns=models.keys())\n",
    "for model in models.keys():\n",
    "    y_pred[model] = models[model].predict(X_test)"
   ]
  },
  {
   "cell_type": "code",
   "execution_count": 174,
   "metadata": {},
   "outputs": [
    {
     "name": "stdout",
     "output_type": "stream",
     "text": [
      "[X0, X1]\n",
      "Categories (2, object): [X0, X1]\n",
      "GradientBoosting\n",
      "               Valor    Predicho\n",
      "---------  --  -------  ----------\n",
      "           -   X0       X1\n",
      "Valor      X0  5121     32\n",
      "Verdadero  X1  69       14\n",
      "Classifier_ovr\n",
      "               Valor    Predicho\n",
      "---------  --  -------  ----------\n",
      "           -   X0       X1\n",
      "Valor      X0  5153     0\n",
      "Verdadero  X1  83       0\n",
      "RandomForest\n",
      "               Valor    Predicho\n",
      "---------  --  -------  ----------\n",
      "           -   X0       X1\n",
      "Valor      X0  5147     6\n",
      "Verdadero  X1  81       2\n",
      "KNN\n",
      "               Valor    Predicho\n",
      "---------  --  -------  ----------\n",
      "           -   X0       X1\n",
      "Valor      X0  5153     0\n",
      "Verdadero  X1  83       0\n",
      "DesicionTree\n",
      "               Valor    Predicho\n",
      "---------  --  -------  ----------\n",
      "           -   X0       X1\n",
      "Valor      X0  5147     6\n",
      "Verdadero  X1  77       6\n"
     ]
    }
   ],
   "source": [
    "classes = df['riesgo'].unique()\n",
    "print(classes)\n",
    "for model in models.keys():\n",
    "    cnf_matrix_1 = confusion_matrix(y_test, y_pred[model])\n",
    "    print(model)\n",
    "    list_cm(cnf_matrix_1, classes = classes)"
   ]
  },
  {
   "cell_type": "code",
   "execution_count": 175,
   "metadata": {},
   "outputs": [
    {
     "name": "stdout",
     "output_type": "stream",
     "text": [
      "GradientBoosting\n",
      "Accurracy: 0.9807104660045837\n",
      "Error de clasificación: 0.01928953399541633\n",
      "Precisión macro: 0.6455265141995477\n",
      "Recall macro: 0.5812323620116016\n",
      "F1 macro: 0.6036446025361122\n",
      "AUC: 0.8974091592451701\n",
      "Classifier_ovr\n",
      "Accurracy: 0.98414820473644\n",
      "Error de clasificación: 0.015851795263559953\n",
      "Precisión macro: 0.49207410236822\n",
      "Recall macro: 0.5\n",
      "F1 macro: 0.4960053903166811\n"
     ]
    },
    {
     "name": "stderr",
     "output_type": "stream",
     "text": [
      "c:\\users\\juantrma\\appdata\\local\\programs\\python\\python37\\lib\\site-packages\\sklearn\\metrics\\classification.py:1437: UndefinedMetricWarning: Precision is ill-defined and being set to 0.0 in labels with no predicted samples.\n",
      "  'precision', 'predicted', average, warn_for)\n",
      "c:\\users\\juantrma\\appdata\\local\\programs\\python\\python37\\lib\\site-packages\\sklearn\\metrics\\classification.py:1437: UndefinedMetricWarning: F-score is ill-defined and being set to 0.0 in labels with no predicted samples.\n",
      "  'precision', 'predicted', average, warn_for)\n"
     ]
    },
    {
     "name": "stdout",
     "output_type": "stream",
     "text": [
      "AUC: 0.7100601123687452\n",
      "RandomForest\n",
      "Accurracy: 0.9833842627960275\n",
      "Error de clasificación: 0.01661573720397247\n",
      "Precisión macro: 0.6172532517214997\n",
      "Recall macro: 0.5114660076362114\n",
      "F1 macro: 0.5177876742273236\n",
      "AUC: 0.7673995029214472\n",
      "KNN\n",
      "Accurracy: 0.98414820473644\n",
      "Error de clasificación: 0.015851795263559953\n",
      "Precisión macro: 0.49207410236822\n",
      "Recall macro: 0.5\n",
      "F1 macro: 0.4960053903166811\n"
     ]
    },
    {
     "name": "stderr",
     "output_type": "stream",
     "text": [
      "c:\\users\\juantrma\\appdata\\local\\programs\\python\\python37\\lib\\site-packages\\sklearn\\metrics\\classification.py:1437: UndefinedMetricWarning: Precision is ill-defined and being set to 0.0 in labels with no predicted samples.\n",
      "  'precision', 'predicted', average, warn_for)\n",
      "c:\\users\\juantrma\\appdata\\local\\programs\\python\\python37\\lib\\site-packages\\sklearn\\metrics\\classification.py:1437: UndefinedMetricWarning: F-score is ill-defined and being set to 0.0 in labels with no predicted samples.\n",
      "  'precision', 'predicted', average, warn_for)\n"
     ]
    },
    {
     "name": "stdout",
     "output_type": "stream",
     "text": [
      "AUC: 0.7893366596601816\n",
      "DesicionTree\n",
      "Accurracy: 0.98414820473644\n",
      "Error de clasificación: 0.015851795263559953\n",
      "Precisión macro: 0.7426301684532925\n",
      "Recall macro: 0.5355623931783801\n",
      "F1 macro: 0.5591586656725653\n",
      "AUC: 0.8128473529281107\n"
     ]
    }
   ],
   "source": [
    "from sklearn.metrics import precision_score\n",
    "from sklearn.metrics import recall_score\n",
    "from sklearn.metrics import f1_score\n",
    "from sklearn.metrics import roc_curve\n",
    "from sklearn.metrics import roc_auc_score\n",
    "\n",
    "for model in models.keys():\n",
    "    print(model)\n",
    "    print('Accurracy: {}'.format(models[model].score(X_test, y_test)))\n",
    "    print('Error de clasificación: {}'.format(1 - models[model].score(X_test, y_test)))\n",
    "    print('Precisión macro: {}'.format(precision_score(y_test, y_pred[model], average='macro')))\n",
    "    print('Recall macro: {}'.format(recall_score(y_test, y_pred[model], average='macro')))\n",
    "    print('F1 macro: {}'.format(f1_score(y_test,y_pred[model], average='macro')))\n",
    "    print('AUC: {}'.format(roc_auc_score(y_test, models[model].predict_proba(X_test)[:, 1]), average='macro'))"
   ]
  },
  {
   "cell_type": "markdown",
   "metadata": {},
   "source": [
    "## Cross Validation"
   ]
  },
  {
   "cell_type": "code",
   "execution_count": 177,
   "metadata": {},
   "outputs": [
    {
     "name": "stderr",
     "output_type": "stream",
     "text": [
      "c:\\users\\juantrma\\appdata\\local\\programs\\python\\python37\\lib\\site-packages\\sklearn\\ensemble\\gradient_boosting.py:1450: DataConversionWarning: A column-vector y was passed when a 1d array was expected. Please change the shape of y to (n_samples, ), for example using ravel().\n",
      "  y = column_or_1d(y, warn=True)\n",
      "c:\\users\\juantrma\\appdata\\local\\programs\\python\\python37\\lib\\site-packages\\sklearn\\ensemble\\gradient_boosting.py:1450: DataConversionWarning: A column-vector y was passed when a 1d array was expected. Please change the shape of y to (n_samples, ), for example using ravel().\n",
      "  y = column_or_1d(y, warn=True)\n",
      "c:\\users\\juantrma\\appdata\\local\\programs\\python\\python37\\lib\\site-packages\\sklearn\\ensemble\\gradient_boosting.py:1450: DataConversionWarning: A column-vector y was passed when a 1d array was expected. Please change the shape of y to (n_samples, ), for example using ravel().\n",
      "  y = column_or_1d(y, warn=True)\n",
      "c:\\users\\juantrma\\appdata\\local\\programs\\python\\python37\\lib\\site-packages\\sklearn\\ensemble\\gradient_boosting.py:1450: DataConversionWarning: A column-vector y was passed when a 1d array was expected. Please change the shape of y to (n_samples, ), for example using ravel().\n",
      "  y = column_or_1d(y, warn=True)\n",
      "c:\\users\\juantrma\\appdata\\local\\programs\\python\\python37\\lib\\site-packages\\sklearn\\ensemble\\gradient_boosting.py:1450: DataConversionWarning: A column-vector y was passed when a 1d array was expected. Please change the shape of y to (n_samples, ), for example using ravel().\n",
      "  y = column_or_1d(y, warn=True)\n",
      "c:\\users\\juantrma\\appdata\\local\\programs\\python\\python37\\lib\\site-packages\\sklearn\\ensemble\\gradient_boosting.py:1450: DataConversionWarning: A column-vector y was passed when a 1d array was expected. Please change the shape of y to (n_samples, ), for example using ravel().\n",
      "  y = column_or_1d(y, warn=True)\n",
      "c:\\users\\juantrma\\appdata\\local\\programs\\python\\python37\\lib\\site-packages\\sklearn\\ensemble\\gradient_boosting.py:1450: DataConversionWarning: A column-vector y was passed when a 1d array was expected. Please change the shape of y to (n_samples, ), for example using ravel().\n",
      "  y = column_or_1d(y, warn=True)\n",
      "c:\\users\\juantrma\\appdata\\local\\programs\\python\\python37\\lib\\site-packages\\sklearn\\ensemble\\gradient_boosting.py:1450: DataConversionWarning: A column-vector y was passed when a 1d array was expected. Please change the shape of y to (n_samples, ), for example using ravel().\n",
      "  y = column_or_1d(y, warn=True)\n",
      "c:\\users\\juantrma\\appdata\\local\\programs\\python\\python37\\lib\\site-packages\\sklearn\\ensemble\\gradient_boosting.py:1450: DataConversionWarning: A column-vector y was passed when a 1d array was expected. Please change the shape of y to (n_samples, ), for example using ravel().\n",
      "  y = column_or_1d(y, warn=True)\n",
      "c:\\users\\juantrma\\appdata\\local\\programs\\python\\python37\\lib\\site-packages\\sklearn\\ensemble\\gradient_boosting.py:1450: DataConversionWarning: A column-vector y was passed when a 1d array was expected. Please change the shape of y to (n_samples, ), for example using ravel().\n",
      "  y = column_or_1d(y, warn=True)\n"
     ]
    },
    {
     "name": "stdout",
     "output_type": "stream",
     "text": [
      "train MSE Bellavista: \n",
      " {'fit_time': array([209.60901642, 208.04771924, 206.55452609, 204.86565495,\n",
      "       211.01104283, 214.6269691 , 209.99385762, 203.77270031,\n",
      "       207.3506968 , 223.25328255]), 'score_time': array([0.19550562, 0.18542695, 0.18546987, 0.19647479, 0.20546675,\n",
      "       0.20445275, 0.23437285, 0.19051909, 0.19698071, 0.23036194]), 'test_accuracy': array([0.9787408 , 0.97790507, 0.98199673, 0.97790507, 0.97381342,\n",
      "       0.98036007, 0.97870598, 0.98034398, 0.97706798, 0.97788698]), 'test_f1_macro': array([0.58836475, 0.55892143, 0.65168947, 0.55892143, 0.54891104,\n",
      "       0.66168328, 0.53032903, 0.62002075, 0.55669087, 0.55891679]), 'test_precision_macro': array([0.61798101, 0.58347722, 0.70213499, 0.58347722, 0.55503731,\n",
      "       0.68169569, 0.54812981, 0.64763754, 0.56988665, 0.57630273]), 'test_recall_macro': array([0.57125935, 0.54625624, 0.62208819, 0.54625624, 0.54417637,\n",
      "       0.64584027, 0.522988  , 0.6015194 , 0.54805587, 0.54847185]), 'test_roc_auc': array([0.87150873, 0.80428453, 0.75727953, 0.83028286, 0.76222962,\n",
      "       0.90253744, 0.87012873, 0.93169279, 0.84674665, 0.81705929])} \n",
      "\n"
     ]
    },
    {
     "name": "stderr",
     "output_type": "stream",
     "text": [
      "c:\\users\\juantrma\\appdata\\local\\programs\\python\\python37\\lib\\site-packages\\sklearn\\ensemble\\gradient_boosting.py:1450: DataConversionWarning: A column-vector y was passed when a 1d array was expected. Please change the shape of y to (n_samples, ), for example using ravel().\n",
      "  y = column_or_1d(y, warn=True)\n",
      "c:\\users\\juantrma\\appdata\\local\\programs\\python\\python37\\lib\\site-packages\\sklearn\\ensemble\\gradient_boosting.py:1450: DataConversionWarning: A column-vector y was passed when a 1d array was expected. Please change the shape of y to (n_samples, ), for example using ravel().\n",
      "  y = column_or_1d(y, warn=True)\n",
      "c:\\users\\juantrma\\appdata\\local\\programs\\python\\python37\\lib\\site-packages\\sklearn\\ensemble\\gradient_boosting.py:1450: DataConversionWarning: A column-vector y was passed when a 1d array was expected. Please change the shape of y to (n_samples, ), for example using ravel().\n",
      "  y = column_or_1d(y, warn=True)\n",
      "c:\\users\\juantrma\\appdata\\local\\programs\\python\\python37\\lib\\site-packages\\sklearn\\ensemble\\gradient_boosting.py:1450: DataConversionWarning: A column-vector y was passed when a 1d array was expected. Please change the shape of y to (n_samples, ), for example using ravel().\n",
      "  y = column_or_1d(y, warn=True)\n",
      "c:\\users\\juantrma\\appdata\\local\\programs\\python\\python37\\lib\\site-packages\\sklearn\\ensemble\\gradient_boosting.py:1450: DataConversionWarning: A column-vector y was passed when a 1d array was expected. Please change the shape of y to (n_samples, ), for example using ravel().\n",
      "  y = column_or_1d(y, warn=True)\n",
      "c:\\users\\juantrma\\appdata\\local\\programs\\python\\python37\\lib\\site-packages\\sklearn\\ensemble\\gradient_boosting.py:1450: DataConversionWarning: A column-vector y was passed when a 1d array was expected. Please change the shape of y to (n_samples, ), for example using ravel().\n",
      "  y = column_or_1d(y, warn=True)\n",
      "c:\\users\\juantrma\\appdata\\local\\programs\\python\\python37\\lib\\site-packages\\sklearn\\ensemble\\gradient_boosting.py:1450: DataConversionWarning: A column-vector y was passed when a 1d array was expected. Please change the shape of y to (n_samples, ), for example using ravel().\n",
      "  y = column_or_1d(y, warn=True)\n",
      "c:\\users\\juantrma\\appdata\\local\\programs\\python\\python37\\lib\\site-packages\\sklearn\\ensemble\\gradient_boosting.py:1450: DataConversionWarning: A column-vector y was passed when a 1d array was expected. Please change the shape of y to (n_samples, ), for example using ravel().\n",
      "  y = column_or_1d(y, warn=True)\n",
      "c:\\users\\juantrma\\appdata\\local\\programs\\python\\python37\\lib\\site-packages\\sklearn\\ensemble\\gradient_boosting.py:1450: DataConversionWarning: A column-vector y was passed when a 1d array was expected. Please change the shape of y to (n_samples, ), for example using ravel().\n",
      "  y = column_or_1d(y, warn=True)\n",
      "c:\\users\\juantrma\\appdata\\local\\programs\\python\\python37\\lib\\site-packages\\sklearn\\ensemble\\gradient_boosting.py:1450: DataConversionWarning: A column-vector y was passed when a 1d array was expected. Please change the shape of y to (n_samples, ), for example using ravel().\n",
      "  y = column_or_1d(y, warn=True)\n"
     ]
    },
    {
     "name": "stdout",
     "output_type": "stream",
     "text": [
      "test MSE Bellavista: \n",
      " {'fit_time': array([74.74500632, 74.60737467, 72.46809745, 72.9557941 , 73.15825152,\n",
      "       72.27262068, 73.39362168, 72.76231146, 73.7885654 , 72.44316459]), 'score_time': array([0.0847733 , 0.0847733 , 0.08277893, 0.08377647, 0.09873652,\n",
      "       0.08178139, 0.08178186, 0.07779193, 0.08277869, 0.07878923]), 'test_accuracy': array([0.97333333, 0.98285714, 0.9752381 , 0.98852772, 0.98279159,\n",
      "       0.98279159, 0.98279159, 0.98087954, 0.97705545, 0.9789675 ]), 'test_f1_macro': array([0.55573017, 0.586578  , 0.61135471, 0.74709865, 0.49566056,\n",
      "       0.64948991, 0.64948991, 0.49517375, 0.66083009, 0.70517091]), 'test_precision_macro': array([0.56370656, 0.74235182, 0.61823017, 0.87018304, 0.49233716,\n",
      "       0.69420849, 0.69420849, 0.49232246, 0.64512671, 0.67791193]), 'test_recall_macro': array([0.5497416 , 0.55458656, 0.60529716, 0.68652913, 0.49902913,\n",
      "       0.62208738, 0.62208738, 0.49805825, 0.68070388, 0.74320388]), 'test_roc_auc': array([0.93690784, 0.83850129, 0.89039621, 0.91383495, 0.8086165 ,\n",
      "       0.84866505, 0.89029126, 0.86674757, 0.94660194, 0.86225728])}\n"
     ]
    }
   ],
   "source": [
    "from sklearn.model_selection import cross_validate\n",
    "from sklearn.metrics import precision_score\n",
    "from sklearn.metrics import recall_score\n",
    "from sklearn.metrics import f1_score\n",
    "from sklearn.metrics import roc_curve\n",
    "from sklearn.metrics import roc_auc_score\n",
    "\n",
    "FinalMod=models['GradientBoosting']\n",
    "\n",
    "n_cv=10\n",
    "scoring = ['accuracy', 'f1_macro', 'precision_macro', 'recall_macro', 'roc_auc']\n",
    "\n",
    "score1=cross_validate(FinalMod, X_train, y_train, cv=n_cv, scoring=scoring)\n",
    "print(\"train MSE: \\n\", score1, \"\\n\")\n",
    "\n",
    "score1=cross_validate(FinalMod, X_test, y_test, cv=n_cv, scoring=scoring)\n",
    "print(\"test MSE: \\n\", score1)"
   ]
  },
  {
   "cell_type": "code",
   "execution_count": null,
   "metadata": {},
   "outputs": [],
   "source": [
    "Proba = FinalMod.predict_proba(X_test)"
   ]
  }
 ],
 "metadata": {
  "kernelspec": {
   "display_name": "Python 3",
   "language": "python",
   "name": "python3"
  },
  "language_info": {
   "codemirror_mode": {
    "name": "ipython",
    "version": 3
   },
   "file_extension": ".py",
   "mimetype": "text/x-python",
   "name": "python",
   "nbconvert_exporter": "python",
   "pygments_lexer": "ipython3",
   "version": "3.7.4"
  }
 },
 "nbformat": 4,
 "nbformat_minor": 2
}
